{
 "cells": [
  {
   "cell_type": "code",
   "execution_count": 30,
   "metadata": {},
   "outputs": [],
   "source": [
    "import pandas as pd\n",
    "import numpy as np\n",
    "listings = pd.read_csv('data/cleansed_listings.csv')\n",
    "neighbourhoods = pd.read_csv('data/neighbourhoods.csv')\n",
    "#calendar = pd.read_csv('data/calendar.csv')"
   ]
  },
  {
   "cell_type": "code",
   "execution_count": 45,
   "metadata": {},
   "outputs": [
    {
     "data": {
      "text/html": [
       "<div>\n",
       "<style>\n",
       "    .dataframe thead tr:only-child th {\n",
       "        text-align: right;\n",
       "    }\n",
       "\n",
       "    .dataframe thead th {\n",
       "        text-align: left;\n",
       "    }\n",
       "\n",
       "    .dataframe tbody tr th {\n",
       "        vertical-align: top;\n",
       "    }\n",
       "</style>\n",
       "<table border=\"1\" class=\"dataframe\">\n",
       "  <thead>\n",
       "    <tr style=\"text-align: right;\">\n",
       "      <th></th>\n",
       "      <th>listing_url</th>\n",
       "      <th>name</th>\n",
       "      <th>summary</th>\n",
       "      <th>space</th>\n",
       "      <th>description</th>\n",
       "      <th>neighborhood_overview</th>\n",
       "      <th>picture_url</th>\n",
       "      <th>street</th>\n",
       "      <th>neighbourhood_cleansed</th>\n",
       "      <th>city</th>\n",
       "      <th>property_type</th>\n",
       "      <th>room_type</th>\n",
       "      <th>instant_bookable</th>\n",
       "      <th>cancellation_policy</th>\n",
       "    </tr>\n",
       "  </thead>\n",
       "  <tbody>\n",
       "    <tr>\n",
       "      <th>0</th>\n",
       "      <td>https://www.airbnb.com/rooms/20872145</td>\n",
       "      <td>Charming Boston Residential</td>\n",
       "      <td>Berber carpeting. The living room has two full...</td>\n",
       "      <td>It's on the second floor.</td>\n",
       "      <td>Berber carpeting. The living room has two full...</td>\n",
       "      <td>Roslindale is an amazing up and coming town in...</td>\n",
       "      <td>https://a0.muscache.com/im/pictures/3cf36714-5...</td>\n",
       "      <td>Boston, MA, United States</td>\n",
       "      <td>Roslindale</td>\n",
       "      <td>Boston</td>\n",
       "      <td>Apartment</td>\n",
       "      <td>Private room</td>\n",
       "      <td>t</td>\n",
       "      <td>moderate</td>\n",
       "    </tr>\n",
       "    <tr>\n",
       "      <th>1</th>\n",
       "      <td>https://www.airbnb.com/rooms/13937181</td>\n",
       "      <td>Guest Room in Cozy Home</td>\n",
       "      <td>Guest room available in cozy, well-lit home on...</td>\n",
       "      <td>0</td>\n",
       "      <td>Guest room available in cozy, well-lit home on...</td>\n",
       "      <td>0</td>\n",
       "      <td>https://a0.muscache.com/im/pictures/02f47ff6-c...</td>\n",
       "      <td>Boston, MA, United States</td>\n",
       "      <td>Roslindale</td>\n",
       "      <td>Boston</td>\n",
       "      <td>House</td>\n",
       "      <td>Private room</td>\n",
       "      <td>f</td>\n",
       "      <td>flexible</td>\n",
       "    </tr>\n",
       "    <tr>\n",
       "      <th>2</th>\n",
       "      <td>https://www.airbnb.com/rooms/3575220</td>\n",
       "      <td>The Artist room in beautiful villa.</td>\n",
       "      <td>My home is a villa in one of the friendliest, ...</td>\n",
       "      <td>The room is spacious and private. The house is...</td>\n",
       "      <td>My home is a villa in one of the friendliest, ...</td>\n",
       "      <td>This a nice multicultural, family neighborhood.</td>\n",
       "      <td>https://a0.muscache.com/im/pictures/45068406/a...</td>\n",
       "      <td>Boston, MA, United States</td>\n",
       "      <td>Roslindale</td>\n",
       "      <td>Boston</td>\n",
       "      <td>House</td>\n",
       "      <td>Private room</td>\n",
       "      <td>f</td>\n",
       "      <td>moderate</td>\n",
       "    </tr>\n",
       "    <tr>\n",
       "      <th>3</th>\n",
       "      <td>https://www.airbnb.com/rooms/17419858</td>\n",
       "      <td>Large Bedroom in WestRoxbury/Rozzie</td>\n",
       "      <td>Beautiful private room on a quiet street with ...</td>\n",
       "      <td>0</td>\n",
       "      <td>Beautiful private room on a quiet street with ...</td>\n",
       "      <td>Quiet quiet quiet it's close to everything yet...</td>\n",
       "      <td>https://a0.muscache.com/im/pictures/404ac642-9...</td>\n",
       "      <td>Boston, MA, United States</td>\n",
       "      <td>Roslindale</td>\n",
       "      <td>Boston</td>\n",
       "      <td>Apartment</td>\n",
       "      <td>Private room</td>\n",
       "      <td>t</td>\n",
       "      <td>strict</td>\n",
       "    </tr>\n",
       "    <tr>\n",
       "      <th>4</th>\n",
       "      <td>https://www.airbnb.com/rooms/18202496</td>\n",
       "      <td>Bright and peaceful room in Roslindale Village</td>\n",
       "      <td>This is a spacious private room in a beautiful...</td>\n",
       "      <td>Perfect for couples or friends excited for day...</td>\n",
       "      <td>This is a spacious private room in a beautiful...</td>\n",
       "      <td>This is a fantastic area. Despite being a coll...</td>\n",
       "      <td>https://a0.muscache.com/im/pictures/878e31ee-f...</td>\n",
       "      <td>Boston, MA, United States</td>\n",
       "      <td>Roslindale</td>\n",
       "      <td>Boston</td>\n",
       "      <td>House</td>\n",
       "      <td>Private room</td>\n",
       "      <td>f</td>\n",
       "      <td>flexible</td>\n",
       "    </tr>\n",
       "  </tbody>\n",
       "</table>\n",
       "</div>"
      ],
      "text/plain": [
       "                             listing_url  \\\n",
       "0  https://www.airbnb.com/rooms/20872145   \n",
       "1  https://www.airbnb.com/rooms/13937181   \n",
       "2   https://www.airbnb.com/rooms/3575220   \n",
       "3  https://www.airbnb.com/rooms/17419858   \n",
       "4  https://www.airbnb.com/rooms/18202496   \n",
       "\n",
       "                                             name  \\\n",
       "0                     Charming Boston Residential   \n",
       "1                         Guest Room in Cozy Home   \n",
       "2             The Artist room in beautiful villa.   \n",
       "3             Large Bedroom in WestRoxbury/Rozzie   \n",
       "4  Bright and peaceful room in Roslindale Village   \n",
       "\n",
       "                                             summary  \\\n",
       "0  Berber carpeting. The living room has two full...   \n",
       "1  Guest room available in cozy, well-lit home on...   \n",
       "2  My home is a villa in one of the friendliest, ...   \n",
       "3  Beautiful private room on a quiet street with ...   \n",
       "4  This is a spacious private room in a beautiful...   \n",
       "\n",
       "                                               space  \\\n",
       "0                          It's on the second floor.   \n",
       "1                                                  0   \n",
       "2  The room is spacious and private. The house is...   \n",
       "3                                                  0   \n",
       "4  Perfect for couples or friends excited for day...   \n",
       "\n",
       "                                         description  \\\n",
       "0  Berber carpeting. The living room has two full...   \n",
       "1  Guest room available in cozy, well-lit home on...   \n",
       "2  My home is a villa in one of the friendliest, ...   \n",
       "3  Beautiful private room on a quiet street with ...   \n",
       "4  This is a spacious private room in a beautiful...   \n",
       "\n",
       "                               neighborhood_overview  \\\n",
       "0  Roslindale is an amazing up and coming town in...   \n",
       "1                                                  0   \n",
       "2    This a nice multicultural, family neighborhood.   \n",
       "3  Quiet quiet quiet it's close to everything yet...   \n",
       "4  This is a fantastic area. Despite being a coll...   \n",
       "\n",
       "                                         picture_url  \\\n",
       "0  https://a0.muscache.com/im/pictures/3cf36714-5...   \n",
       "1  https://a0.muscache.com/im/pictures/02f47ff6-c...   \n",
       "2  https://a0.muscache.com/im/pictures/45068406/a...   \n",
       "3  https://a0.muscache.com/im/pictures/404ac642-9...   \n",
       "4  https://a0.muscache.com/im/pictures/878e31ee-f...   \n",
       "\n",
       "                      street neighbourhood_cleansed    city property_type  \\\n",
       "0  Boston, MA, United States             Roslindale  Boston     Apartment   \n",
       "1  Boston, MA, United States             Roslindale  Boston         House   \n",
       "2  Boston, MA, United States             Roslindale  Boston         House   \n",
       "3  Boston, MA, United States             Roslindale  Boston     Apartment   \n",
       "4  Boston, MA, United States             Roslindale  Boston         House   \n",
       "\n",
       "      room_type instant_bookable cancellation_policy  \n",
       "0  Private room                t            moderate  \n",
       "1  Private room                f            flexible  \n",
       "2  Private room                f            moderate  \n",
       "3  Private room                t              strict  \n",
       "4  Private room                f            flexible  "
      ]
     },
     "execution_count": 45,
     "metadata": {},
     "output_type": "execute_result"
    }
   ],
   "source": [
    "listings.dtypes\n",
    "obj = listings.select_dtypes(include=['object']).copy()\n",
    "obj.head()"
   ]
  },
  {
   "cell_type": "code",
   "execution_count": 56,
   "metadata": {},
   "outputs": [
    {
     "data": {
      "text/plain": [
       "Boston                    4686\n",
       "Roxbury Crossing            26\n",
       "Dorchester                  16\n",
       "Jamaica Plain               15\n",
       "Charlestown                 14\n",
       "Brighton                    13\n",
       "Brookline                   12\n",
       "Allston                      8\n",
       "Somerville                   7\n",
       "ROXBURY CROSSING             6\n",
       "West Roxbury                 5\n",
       "Cambridge                    5\n",
       "0                            5\n",
       "Winthrop                     3\n",
       "Roslindale                   3\n",
       "Newton                       2\n",
       "Roxbury                      2\n",
       "ALLSTON                      2\n",
       "Boston                       2\n",
       "波士顿                          2\n",
       "Revere                       2\n",
       "Brighton                     2\n",
       "East Boston                  2\n",
       "east Boston                  1\n",
       "Chelsea                      1\n",
       "Dedham                       1\n",
       "Jamaica Plain /Boston        1\n",
       "Milton                       1\n",
       "Chestnut Hill                1\n",
       "South Boston                 1\n",
       "Watertown                    1\n",
       "Jamaica plain                1\n",
       "South boston                 1\n",
       "JAMAICA PLAIN                1\n",
       "Dorchester                   1\n",
       "Jamaica Plain (Boston)       1\n",
       "Boston (Charlestown)         1\n",
       "Mission Hill, Boston         1\n",
       "Hyde Park                    1\n",
       "Dorchester Center            1\n",
       "Jamaica Plain, Boston        1\n",
       "Mattapan                     1\n",
       "Hyde Park                    1\n",
       "Jamaica Plain                1\n",
       "Chestnut hill                1\n",
       "Roslindale, Boston           1\n",
       "boston                       1\n",
       "Mattapan                     1\n",
       "jamaica Plain                1\n",
       "Name: city, dtype: int64"
      ]
     },
     "execution_count": 56,
     "metadata": {},
     "output_type": "execute_result"
    }
   ],
   "source": [
    "# city, street: boston - Boston, change to cap, change to the same\n",
    "# label encoding: neighborhood_cleansed, property, cancellation\n",
    "# delete picture url, listing url, neiborhood_overview, description, space\n",
    "# name: one-hot encoding?\n",
    "obj[\"room_type\"].value_counts()\n",
    "obj[\"instant_bookable\"].value_counts()\n",
    "obj[\"city\"].value_counts()"
   ]
  },
  {
   "cell_type": "code",
   "execution_count": 47,
   "metadata": {},
   "outputs": [
    {
     "data": {
      "text/plain": [
       "listing_url               object\n",
       "name                      object\n",
       "summary                   object\n",
       "space                     object\n",
       "description               object\n",
       "neighborhood_overview     object\n",
       "picture_url               object\n",
       "street                    object\n",
       "neighbourhood_cleansed    object\n",
       "city                      object\n",
       "property_type             object\n",
       "room_type                  int64\n",
       "instant_bookable           int64\n",
       "cancellation_policy       object\n",
       "dtype: object"
      ]
     },
     "execution_count": 47,
     "metadata": {},
     "output_type": "execute_result"
    }
   ],
   "source": [
    "# room_type: Entire home/apt: 0, Private room: 1, Shared room: 2\n",
    "# instant_bookable: f: 0, t: 1\n",
    "cleanup_nums = {\"room_type\":{\"Entire home/apt\": 0, \"Private room\": 1,\n",
    "                            \"Shared room\": 2},\n",
    "               \"instant_bookable\": {\"f\": 0, \"t\": 1}}\n",
    "obj.replace(cleanup_nums, inplace=True)\n",
    "obj.dtypes"
   ]
  },
  {
   "cell_type": "code",
   "execution_count": 48,
   "metadata": {},
   "outputs": [
    {
     "data": {
      "text/plain": [
       "listing_url                  object\n",
       "name                         object\n",
       "summary                      object\n",
       "space                        object\n",
       "description                  object\n",
       "neighborhood_overview        object\n",
       "picture_url                  object\n",
       "street                       object\n",
       "neighbourhood_cleansed       object\n",
       "city                         object\n",
       "property_type                object\n",
       "room_type                     int64\n",
       "instant_bookable              int64\n",
       "cancellation_policy        category\n",
       "cancellation_policy_cat        int8\n",
       "dtype: object"
      ]
     },
     "execution_count": 48,
     "metadata": {},
     "output_type": "execute_result"
    }
   ],
   "source": [
    "obj[\"cancellation_policy\"] = obj[\"cancellation_policy\"].astype('category')\n",
    "obj.dtypes\n",
    "obj[\"cancellation_policy_cat\"] = obj[\"cancellation_policy\"].cat.codes\n",
    "obj.dtypes"
   ]
  },
  {
   "cell_type": "code",
   "execution_count": 50,
   "metadata": {},
   "outputs": [
    {
     "data": {
      "text/plain": [
       "listing_url                     object\n",
       "name                            object\n",
       "summary                         object\n",
       "space                           object\n",
       "description                     object\n",
       "neighborhood_overview           object\n",
       "picture_url                     object\n",
       "street                          object\n",
       "neighbourhood_cleansed        category\n",
       "city                            object\n",
       "property_type                   object\n",
       "room_type                        int64\n",
       "instant_bookable                 int64\n",
       "cancellation_policy           category\n",
       "cancellation_policy_cat           int8\n",
       "neighbourhood_cleansed_cat        int8\n",
       "dtype: object"
      ]
     },
     "execution_count": 50,
     "metadata": {},
     "output_type": "execute_result"
    }
   ],
   "source": [
    "obj[\"neighbourhood_cleansed\"] = obj[\"neighbourhood_cleansed\"].astype('category')\n",
    "obj.dtypes\n",
    "obj[\"neighbourhood_cleansed_cat\"] = obj[\"neighbourhood_cleansed\"].cat.codes\n",
    "obj.dtypes"
   ]
  },
  {
   "cell_type": "code",
   "execution_count": 51,
   "metadata": {},
   "outputs": [
    {
     "data": {
      "text/plain": [
       "listing_url                     object\n",
       "name                            object\n",
       "summary                         object\n",
       "space                           object\n",
       "description                     object\n",
       "neighborhood_overview           object\n",
       "picture_url                     object\n",
       "street                          object\n",
       "neighbourhood_cleansed        category\n",
       "city                            object\n",
       "property_type                 category\n",
       "room_type                        int64\n",
       "instant_bookable                 int64\n",
       "cancellation_policy           category\n",
       "cancellation_policy_cat           int8\n",
       "neighbourhood_cleansed_cat        int8\n",
       "property_type_cat                 int8\n",
       "dtype: object"
      ]
     },
     "execution_count": 51,
     "metadata": {},
     "output_type": "execute_result"
    }
   ],
   "source": [
    "obj[\"property_type\"] = obj[\"property_type\"].astype('category')\n",
    "obj.dtypes\n",
    "obj[\"property_type_cat\"] = obj[\"property_type\"].cat.codes\n",
    "obj.dtypes"
   ]
  },
  {
   "cell_type": "code",
   "execution_count": 54,
   "metadata": {
    "collapsed": true
   },
   "outputs": [],
   "source": [
    "listings['property_type'] = obj[\"property_type_cat\"]\n",
    "listings['neighbourhood_cleansed'] = obj[\"neighbourhood_cleansed_cat\"]\n",
    "listings['cancellation_policy'] = obj[\"cancellation_policy_cat\"]\n",
    "listings['room_type'] = obj[\"room_type\"]\n",
    "listings['instant_bookable'] = obj[\"instant_bookable\"]"
   ]
  },
  {
   "cell_type": "code",
   "execution_count": 59,
   "metadata": {},
   "outputs": [
    {
     "data": {
      "text/plain": [
       "id                          int64\n",
       "neighbourhood_cleansed       int8\n",
       "latitude                  float64\n",
       "longitude                 float64\n",
       "property_type                int8\n",
       "room_type                   int64\n",
       "accommodates                int64\n",
       "bathrooms                 float64\n",
       "bedrooms                  float64\n",
       "beds                      float64\n",
       "price                     float64\n",
       "instant_bookable            int64\n",
       "cancellation_policy          int8\n",
       "sum_of_nights             float64\n",
       "1                         float64\n",
       "2                         float64\n",
       "3                         float64\n",
       "4                         float64\n",
       "5                         float64\n",
       "6                         float64\n",
       "7                         float64\n",
       "8                         float64\n",
       "9                         float64\n",
       "10                        float64\n",
       "11                        float64\n",
       "12                        float64\n",
       "dtype: object"
      ]
     },
     "execution_count": 59,
     "metadata": {},
     "output_type": "execute_result"
    }
   ],
   "source": [
    "df = listings.drop(['city', 'listing_url', 'picture_url', 'neighborhood_overview', \n",
    "                    'summary','space', 'description', 'street', 'name'], axis = 1)\n",
    "df.dtypes"
   ]
  },
  {
   "cell_type": "code",
   "execution_count": 61,
   "metadata": {},
   "outputs": [
    {
     "data": {
      "text/plain": [
       "(4866,)"
      ]
     },
     "execution_count": 61,
     "metadata": {},
     "output_type": "execute_result"
    }
   ],
   "source": [
    "X = df.drop(['price'], axis = 1).values\n",
    "y = df['price'].values\n",
    "X.shape\n",
    "y.shape"
   ]
  },
  {
   "cell_type": "code",
   "execution_count": 63,
   "metadata": {},
   "outputs": [
    {
     "name": "stderr",
     "output_type": "stream",
     "text": [
      "/anaconda/lib/python3.6/site-packages/sklearn/cross_validation.py:44: DeprecationWarning: This module was deprecated in version 0.18 in favor of the model_selection module into which all the refactored classes and functions are moved. Also note that the interface of the new CV iterators are different from that of this module. This module will be removed in 0.20.\n",
      "  \"This module will be removed in 0.20.\", DeprecationWarning)\n"
     ]
    }
   ],
   "source": [
    "from sklearn.cross_validation import train_test_split\n",
    "X_train, X_test, y_train, y_test = train_test_split(X, y, random_state=0)\n",
    "rf.fit(X_train, y_train)\n",
    "ypred = rf.predict_proba(X_test)"
   ]
  },
  {
   "cell_type": "code",
   "execution_count": 62,
   "metadata": {},
   "outputs": [
    {
     "data": {
      "text/plain": [
       "RandomForestClassifier(bootstrap=True, class_weight=None, criterion='gini',\n",
       "            max_depth=2, max_features='auto', max_leaf_nodes=None,\n",
       "            min_impurity_split=1e-07, min_samples_leaf=1,\n",
       "            min_samples_split=2, min_weight_fraction_leaf=0.0,\n",
       "            n_estimators=10, n_jobs=1, oob_score=False, random_state=0,\n",
       "            verbose=0, warm_start=False)"
      ]
     },
     "execution_count": 62,
     "metadata": {},
     "output_type": "execute_result"
    }
   ],
   "source": [
    "from sklearn.ensemble import RandomForestClassifier\n",
    "clf = RandomForestClassifier(max_depth=2, random_state=0)\n",
    "clf.fit(X, y)"
   ]
  },
  {
   "cell_type": "code",
   "execution_count": null,
   "metadata": {
    "collapsed": true
   },
   "outputs": [],
   "source": []
  },
  {
   "cell_type": "code",
   "execution_count": null,
   "metadata": {
    "collapsed": true
   },
   "outputs": [],
   "source": []
  }
 ],
 "metadata": {
  "kernelspec": {
   "display_name": "Python 3",
   "language": "python",
   "name": "python3"
  },
  "language_info": {
   "codemirror_mode": {
    "name": "ipython",
    "version": 3
   },
   "file_extension": ".py",
   "mimetype": "text/x-python",
   "name": "python",
   "nbconvert_exporter": "python",
   "pygments_lexer": "ipython3",
   "version": "3.6.1"
  }
 },
 "nbformat": 4,
 "nbformat_minor": 2
}
