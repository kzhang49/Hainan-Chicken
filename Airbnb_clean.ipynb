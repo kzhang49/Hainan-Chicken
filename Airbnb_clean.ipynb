{
 "cells": [
  {
   "cell_type": "code",
   "execution_count": 17,
   "metadata": {},
   "outputs": [
    {
     "data": {
      "text/html": [
       "<div>\n",
       "<style>\n",
       "    .dataframe thead tr:only-child th {\n",
       "        text-align: right;\n",
       "    }\n",
       "\n",
       "    .dataframe thead th {\n",
       "        text-align: left;\n",
       "    }\n",
       "\n",
       "    .dataframe tbody tr th {\n",
       "        vertical-align: top;\n",
       "    }\n",
       "</style>\n",
       "<table border=\"1\" class=\"dataframe\">\n",
       "  <thead>\n",
       "    <tr style=\"text-align: right;\">\n",
       "      <th></th>\n",
       "      <th>listing_id</th>\n",
       "      <th>date</th>\n",
       "      <th>available</th>\n",
       "      <th>price</th>\n",
       "    </tr>\n",
       "  </thead>\n",
       "  <tbody>\n",
       "    <tr>\n",
       "      <th>0</th>\n",
       "      <td>20872145</td>\n",
       "      <td>2018-09-22</td>\n",
       "      <td>f</td>\n",
       "      <td>NaN</td>\n",
       "    </tr>\n",
       "    <tr>\n",
       "      <th>1</th>\n",
       "      <td>20872145</td>\n",
       "      <td>2018-09-21</td>\n",
       "      <td>f</td>\n",
       "      <td>NaN</td>\n",
       "    </tr>\n",
       "    <tr>\n",
       "      <th>2</th>\n",
       "      <td>20872145</td>\n",
       "      <td>2018-09-20</td>\n",
       "      <td>f</td>\n",
       "      <td>NaN</td>\n",
       "    </tr>\n",
       "    <tr>\n",
       "      <th>3</th>\n",
       "      <td>20872145</td>\n",
       "      <td>2018-09-19</td>\n",
       "      <td>f</td>\n",
       "      <td>NaN</td>\n",
       "    </tr>\n",
       "    <tr>\n",
       "      <th>4</th>\n",
       "      <td>20872145</td>\n",
       "      <td>2018-09-18</td>\n",
       "      <td>f</td>\n",
       "      <td>NaN</td>\n",
       "    </tr>\n",
       "  </tbody>\n",
       "</table>\n",
       "</div>"
      ],
      "text/plain": [
       "   listing_id        date available price\n",
       "0    20872145  2018-09-22         f   NaN\n",
       "1    20872145  2018-09-21         f   NaN\n",
       "2    20872145  2018-09-20         f   NaN\n",
       "3    20872145  2018-09-19         f   NaN\n",
       "4    20872145  2018-09-18         f   NaN"
      ]
     },
     "execution_count": 17,
     "metadata": {},
     "output_type": "execute_result"
    }
   ],
   "source": [
    "import pandas as pd\n",
    "import numpy as np\n",
    "\n",
    "# load files\n",
    "listings = pd.read_csv('data/listings.csv')\n",
    "neighbourhoods = pd.read_csv('data/neighbourhoods.csv')\n",
    "calendar = pd.read_csv('data/calendar.csv')\n",
    "calendar.head()"
   ]
  },
  {
   "cell_type": "markdown",
   "metadata": {},
   "source": [
    "## Clean data in calendar.csv"
   ]
  },
  {
   "cell_type": "code",
   "execution_count": 29,
   "metadata": {},
   "outputs": [],
   "source": [
    "df_calendar = calendar\n",
    "df_listings = listings\n",
    "df2 = df_calendar[df_calendar.available.str[0:] != \"f\"]\n",
    "\n",
    "# create panda series for \"sum_of_nights\" indicating the number of available nights\n",
    "a = df2.groupby('listing_id').listing_id.count()\n",
    "df_nights = pd.DataFrame({'id':a.index, 'sum_of_nights':a.values})"
   ]
  },
  {
   "cell_type": "code",
   "execution_count": 43,
   "metadata": {},
   "outputs": [],
   "source": [
    "# Create month column\n",
    "df_calendar['date'] = pd.to_datetime(df_calendar['date'], errors='coerce')\n",
    "df_calendar['month'] = df_calendar['date'].dt.month\n",
    "\n",
    "# Adjust data type of price to float\n",
    "dfa = df_calendar.fillna('$0.00')\n",
    "dfa['price'] = dfa['price'].str.replace('$', '')\n",
    "dfa['price'] = dfa['price'].str.replace(',', '')\n",
    "dfa['price'] = dfa['price'].astype('float64')"
   ]
  },
  {
   "cell_type": "code",
   "execution_count": 44,
   "metadata": {
    "collapsed": true
   },
   "outputs": [],
   "source": [
    "# Calculate the mean price for each month\n",
    "clear_nums = {'t':1, 'f':0}\n",
    "dfa.replace(clear_nums, inplace = True)\n",
    "mul = []\n",
    "for i, row in dfa.iterrows():\n",
    "    mul.append(row[2] * row[3])"
   ]
  },
  {
   "cell_type": "code",
   "execution_count": 51,
   "metadata": {},
   "outputs": [],
   "source": [
    "# Calculate the mean price for each month and replace NAN with 0.\n",
    "dfa['multiple'] = mul\n",
    "summ = dfa.groupby(['listing_id', 'month']).multiple.sum()\n",
    "ava_count = dfa.groupby(['listing_id', 'month']).available.sum()\n",
    "monthly_price = summ/ava_count\n",
    "dfb = monthly_price.reset_index().fillna(0)"
   ]
  },
  {
   "cell_type": "code",
   "execution_count": 49,
   "metadata": {},
   "outputs": [
    {
     "data": {
      "text/html": [
       "<div>\n",
       "<style>\n",
       "    .dataframe thead tr:only-child th {\n",
       "        text-align: right;\n",
       "    }\n",
       "\n",
       "    .dataframe thead th {\n",
       "        text-align: left;\n",
       "    }\n",
       "\n",
       "    .dataframe tbody tr th {\n",
       "        vertical-align: top;\n",
       "    }\n",
       "</style>\n",
       "<table border=\"1\" class=\"dataframe\">\n",
       "  <thead>\n",
       "    <tr style=\"text-align: right;\">\n",
       "      <th></th>\n",
       "      <th>id</th>\n",
       "    </tr>\n",
       "  </thead>\n",
       "  <tbody>\n",
       "    <tr>\n",
       "      <th>0</th>\n",
       "      <td>3781</td>\n",
       "    </tr>\n",
       "    <tr>\n",
       "      <th>1</th>\n",
       "      <td>5506</td>\n",
       "    </tr>\n",
       "    <tr>\n",
       "      <th>2</th>\n",
       "      <td>6695</td>\n",
       "    </tr>\n",
       "    <tr>\n",
       "      <th>3</th>\n",
       "      <td>6976</td>\n",
       "    </tr>\n",
       "    <tr>\n",
       "      <th>4</th>\n",
       "      <td>8792</td>\n",
       "    </tr>\n",
       "  </tbody>\n",
       "</table>\n",
       "</div>"
      ],
      "text/plain": [
       "     id\n",
       "0  3781\n",
       "1  5506\n",
       "2  6695\n",
       "3  6976\n",
       "4  8792"
      ]
     },
     "execution_count": 49,
     "metadata": {},
     "output_type": "execute_result"
    }
   ],
   "source": [
    "# helper function for changing the format of calendar table\n",
    "lists_id = []\n",
    "for i in dfb['listing_id']:\n",
    "    if i not in lists_id:\n",
    "        lists_id.append(i)\n",
    "dfc = pd.DataFrame(lists_id, columns = ['id'])\n",
    "dfc.head()"
   ]
  },
  {
   "cell_type": "code",
   "execution_count": 52,
   "metadata": {},
   "outputs": [],
   "source": [
    "#  changing the format of calendar table\n",
    "def recursive(df, flag):\n",
    "    price_list = []\n",
    "    if flag == 13:\n",
    "        return df\n",
    "    else:\n",
    "        for i, row in dfb.iterrows():\n",
    "            if int(row[1]) == flag:\n",
    "                price_list.append(row[2])\n",
    "        df[str(flag)] = price_list\n",
    "        flag += 1\n",
    "        return recursive(df, flag) \n",
    "df_month = recursive(dfc, 1) \n"
   ]
  },
  {
   "cell_type": "code",
   "execution_count": 8,
   "metadata": {
    "collapsed": true
   },
   "outputs": [],
   "source": [
    "# Save to csv files\n",
    "df_month.to_csv('data/cleansed_calendar.csv', index=False)"
   ]
  },
  {
   "cell_type": "code",
   "execution_count": 53,
   "metadata": {},
   "outputs": [
    {
     "data": {
      "text/plain": [
       "0"
      ]
     },
     "execution_count": 53,
     "metadata": {},
     "output_type": "execute_result"
    }
   ],
   "source": [
    "# merge two dataframes, based on id, add the new column to 'listings'\n",
    "df5 = pd.merge(df_listings, df_nights, on='id', how='left')\n",
    "df7 = df5.fillna(0)\n",
    "\n",
    "# check if there is a null value in id column\n",
    "df7.id[df7.id == 0].count()\n"
   ]
  },
  {
   "cell_type": "code",
   "execution_count": 10,
   "metadata": {},
   "outputs": [
    {
     "data": {
      "text/plain": [
       "0"
      ]
     },
     "execution_count": 10,
     "metadata": {},
     "output_type": "execute_result"
    }
   ],
   "source": [
    "# Delete unimportant features\n",
    "df8 = df7[df7.columns[[0,1,4,5,6,7,9,17,25,26,37,39,41,48,49,\n",
    "                       50,51,52,53,54,55,56,58,60,89,91,96]]]\n",
    "# check if there is any property with 'price == 0'\n",
    "df8.price[df8.price == float(0)].count()"
   ]
  },
  {
   "cell_type": "code",
   "execution_count": 11,
   "metadata": {
    "collapsed": true
   },
   "outputs": [],
   "source": [
    "# Delete rows which 'beds == 0'\n",
    "df9 = df8[df8.beds != 0]"
   ]
  },
  {
   "cell_type": "code",
   "execution_count": 12,
   "metadata": {},
   "outputs": [
    {
     "name": "stderr",
     "output_type": "stream",
     "text": [
      "/anaconda/lib/python3.6/site-packages/ipykernel_launcher.py:2: SettingWithCopyWarning: \n",
      "A value is trying to be set on a copy of a slice from a DataFrame.\n",
      "Try using .loc[row_indexer,col_indexer] = value instead\n",
      "\n",
      "See the caveats in the documentation: http://pandas.pydata.org/pandas-docs/stable/indexing.html#indexing-view-versus-copy\n",
      "  \n",
      "/anaconda/lib/python3.6/site-packages/ipykernel_launcher.py:3: SettingWithCopyWarning: \n",
      "A value is trying to be set on a copy of a slice from a DataFrame.\n",
      "Try using .loc[row_indexer,col_indexer] = value instead\n",
      "\n",
      "See the caveats in the documentation: http://pandas.pydata.org/pandas-docs/stable/indexing.html#indexing-view-versus-copy\n",
      "  This is separate from the ipykernel package so we can avoid doing imports until\n",
      "/anaconda/lib/python3.6/site-packages/ipykernel_launcher.py:4: SettingWithCopyWarning: \n",
      "A value is trying to be set on a copy of a slice from a DataFrame.\n",
      "Try using .loc[row_indexer,col_indexer] = value instead\n",
      "\n",
      "See the caveats in the documentation: http://pandas.pydata.org/pandas-docs/stable/indexing.html#indexing-view-versus-copy\n",
      "  after removing the cwd from sys.path.\n"
     ]
    }
   ],
   "source": [
    "# In column 'price', delete dollar sign($) and comma(,), convert datatype from string to float\n",
    "df9['price'] = df9['price'].str.replace('$', '')\n",
    "df9['price'] = df9['price'].str.replace(',', '')\n",
    "df9['price'] = df9['price'].astype('float64') \n"
   ]
  },
  {
   "cell_type": "code",
   "execution_count": 13,
   "metadata": {
    "collapsed": true
   },
   "outputs": [],
   "source": [
    "# catagorize amenites\n",
    "heating = []\n",
    "wifi = []\n",
    "tv = []\n",
    "pets = []\n",
    "Washer_dryer = []\n",
    "gym = []\n",
    "\n",
    "def split_amenities(each_loop, string, l):\n",
    "    if string in each_loop:\n",
    "        l.append(1)\n",
    "    else:\n",
    "        l.append(0)\n",
    "        \n",
    "def split(df9):\n",
    "    for i in df9['amenities']:\n",
    "        split_amenities(i, 'Heating', heating)\n",
    "        split_amenities(i, '\"Wireless Internet\"', wifi)\n",
    "        split_amenities(i, 'TV', tv)\n",
    "        split_amenities(i, '\"Pets allowed\"', pets)\n",
    "        split_amenities(i, 'Washer,Dryer', Washer_dryer)\n",
    "        split_amenities(i, 'Gym', gym)\n",
    "\n",
    "def sum_amenities(df):\n",
    "    length = []\n",
    "    for i in df['amenities']:\n",
    "        s = i.replace(\"{\", \"\").replace(\"}\", \"\").split(\",\")\n",
    "        length.append(len(s))\n",
    "    return length\n",
    "sum_of_amenities = sum_amenities(df9)\n",
    "split(df9)\n"
   ]
  },
  {
   "cell_type": "code",
   "execution_count": 14,
   "metadata": {},
   "outputs": [
    {
     "name": "stderr",
     "output_type": "stream",
     "text": [
      "/anaconda/lib/python3.6/site-packages/ipykernel_launcher.py:1: SettingWithCopyWarning: \n",
      "A value is trying to be set on a copy of a slice from a DataFrame.\n",
      "Try using .loc[row_indexer,col_indexer] = value instead\n",
      "\n",
      "See the caveats in the documentation: http://pandas.pydata.org/pandas-docs/stable/indexing.html#indexing-view-versus-copy\n",
      "  \"\"\"Entry point for launching an IPython kernel.\n",
      "/anaconda/lib/python3.6/site-packages/ipykernel_launcher.py:2: SettingWithCopyWarning: \n",
      "A value is trying to be set on a copy of a slice from a DataFrame.\n",
      "Try using .loc[row_indexer,col_indexer] = value instead\n",
      "\n",
      "See the caveats in the documentation: http://pandas.pydata.org/pandas-docs/stable/indexing.html#indexing-view-versus-copy\n",
      "  \n",
      "/anaconda/lib/python3.6/site-packages/ipykernel_launcher.py:3: SettingWithCopyWarning: \n",
      "A value is trying to be set on a copy of a slice from a DataFrame.\n",
      "Try using .loc[row_indexer,col_indexer] = value instead\n",
      "\n",
      "See the caveats in the documentation: http://pandas.pydata.org/pandas-docs/stable/indexing.html#indexing-view-versus-copy\n",
      "  This is separate from the ipykernel package so we can avoid doing imports until\n",
      "/anaconda/lib/python3.6/site-packages/ipykernel_launcher.py:4: SettingWithCopyWarning: \n",
      "A value is trying to be set on a copy of a slice from a DataFrame.\n",
      "Try using .loc[row_indexer,col_indexer] = value instead\n",
      "\n",
      "See the caveats in the documentation: http://pandas.pydata.org/pandas-docs/stable/indexing.html#indexing-view-versus-copy\n",
      "  after removing the cwd from sys.path.\n",
      "/anaconda/lib/python3.6/site-packages/ipykernel_launcher.py:5: SettingWithCopyWarning: \n",
      "A value is trying to be set on a copy of a slice from a DataFrame.\n",
      "Try using .loc[row_indexer,col_indexer] = value instead\n",
      "\n",
      "See the caveats in the documentation: http://pandas.pydata.org/pandas-docs/stable/indexing.html#indexing-view-versus-copy\n",
      "  \"\"\"\n",
      "/anaconda/lib/python3.6/site-packages/ipykernel_launcher.py:6: SettingWithCopyWarning: \n",
      "A value is trying to be set on a copy of a slice from a DataFrame.\n",
      "Try using .loc[row_indexer,col_indexer] = value instead\n",
      "\n",
      "See the caveats in the documentation: http://pandas.pydata.org/pandas-docs/stable/indexing.html#indexing-view-versus-copy\n",
      "  \n"
     ]
    }
   ],
   "source": [
    "df9['heating'] = heating\n",
    "df9['wifi'] = wifi\n",
    "df9['pets_allowed'] = pets\n",
    "df9['Washer_dryer'] = Washer_dryer\n",
    "df9['gym'] = gym\n",
    "df9['sum_of_amenities'] = sum_of_amenities"
   ]
  },
  {
   "cell_type": "code",
   "execution_count": 15,
   "metadata": {
    "collapsed": true
   },
   "outputs": [],
   "source": [
    "df9 = df9[['id', \n",
    "'listing_url', \n",
    "'name', \n",
    "'summary', \n",
    "'space', \n",
    "'description', \n",
    "'neighborhood_overview', \n",
    "'picture_url', \n",
    "'host_response_time', \n",
    "'host_response_rate', \n",
    "'street', \n",
    "'neighbourhood_cleansed', \n",
    "'city', \n",
    "'latitude', \n",
    "'longitude', \n",
    "'is_location_exact', \n",
    "'property_type', \n",
    "'room_type', \n",
    "'accommodates', \n",
    "'bathrooms', \n",
    "'bedrooms', \n",
    "'beds', \n",
    "'amenities', \n",
    "'heating', \n",
    "'wifi', \n",
    "'pets_allowed', \n",
    "'Washer_dryer', \n",
    "'gym', \n",
    "'sum_of_amenities', \n",
    "'price', \n",
    "'instant_bookable', \n",
    "'cancellation_policy', \n",
    "'sum_of_nights']]"
   ]
  },
  {
   "cell_type": "code",
   "execution_count": 16,
   "metadata": {
    "collapsed": true
   },
   "outputs": [],
   "source": [
    "# Save to csv files\n",
    "df9.to_csv('data/cleansed_listings.csv', index=False)"
   ]
  },
  {
   "cell_type": "code",
   "execution_count": null,
   "metadata": {
    "collapsed": true
   },
   "outputs": [],
   "source": []
  }
 ],
 "metadata": {
  "kernelspec": {
   "display_name": "Python 3",
   "language": "python",
   "name": "python3"
  },
  "language_info": {
   "codemirror_mode": {
    "name": "ipython",
    "version": 3
   },
   "file_extension": ".py",
   "mimetype": "text/x-python",
   "name": "python",
   "nbconvert_exporter": "python",
   "pygments_lexer": "ipython3",
   "version": "3.6.1"
  }
 },
 "nbformat": 4,
 "nbformat_minor": 2
}
